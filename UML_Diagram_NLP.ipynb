{
  "cells": [
    {
      "cell_type": "code",
      "execution_count": 2,
      "metadata": {
        "colab": {
          "base_uri": "https://localhost:8080/",
          "height": 217
        },
        "colab_type": "code",
        "id": "nyVKauY8B5_N",
        "outputId": "7d872959-e1aa-4827-a471-5d85d9f6ddaa"
      },
      "outputs": [
        {
          "name": "stdout",
          "output_type": "stream",
          "text": [
            "The ... det\n",
            "22 ... nummod\n",
            "- ... punct\n",
            "year ... npadvmod\n",
            "- ... punct\n",
            "old ... amod\n",
            "Student ... nsubj\n",
            "recently ... advmod\n",
            "won ... ROOT\n",
            "ATP ... compound\n",
            "Challenger ... compound\n",
            "tournament ... dobj\n",
            ". ... punct\n"
          ]
        }
      ],
      "source": [
        "import spacy\n",
        "nlp = spacy.load('en_core_web_sm')\n",
        "\n",
        "doc = nlp(\"The 22-year-old Student recently won ATP Challenger tournament.\")\n",
        "\n",
        "for tok in doc:\n",
        "  print(tok.text, \"...\", tok.dep_)"
      ]
    },
    {
      "cell_type": "code",
      "execution_count": 3,
      "metadata": {
        "colab": {
          "base_uri": "https://localhost:8080/",
          "height": 126
        },
        "colab_type": "code",
        "id": "Y5GrI9RcHxSc",
        "outputId": "ae3874cd-0601-48e2-b928-dc225f44a12b"
      },
      "outputs": [
        {
          "name": "stdout",
          "output_type": "stream",
          "text": [
            "Nagal ... nsubj\n",
            "won ... ROOT\n",
            "the ... det\n",
            "first ... amod\n",
            "set ... dobj\n",
            ". ... punct\n"
          ]
        }
      ],
      "source": [
        "doc = nlp(\"Nagal won the first set.\")\n",
        "\n",
        "for tok in doc:\n",
        "  print(tok.text, \"...\", tok.dep_)"
      ]
    },
    {
      "cell_type": "code",
      "execution_count": 4,
      "metadata": {
        "colab": {},
        "colab_type": "code",
        "id": "UelOGJpWMfu_"
      },
      "outputs": [],
      "source": [
        "import re\n",
        "import pandas as pd\n",
        "import bs4\n",
        "import requests\n",
        "import spacy\n",
        "from spacy import displacy\n",
        "nlp = spacy.load('en_core_web_sm')\n",
        "\n",
        "from spacy.matcher import Matcher \n",
        "from spacy.tokens import Span \n",
        "\n",
        "import networkx as nx\n",
        "\n",
        "import matplotlib.pyplot as plt\n",
        "from tqdm import tqdm\n",
        "\n",
        "pd.set_option('display.max_colwidth', 200)\n",
        "%matplotlib inline"
      ]
    },
    {
      "cell_type": "code",
      "execution_count": 63,
      "metadata": {
        "colab": {
          "base_uri": "https://localhost:8080/",
          "height": 35
        },
        "colab_type": "code",
        "id": "0ECfu7CINEuo",
        "outputId": "306ee708-9e2a-4998-b80a-57a68eedd473"
      },
      "outputs": [
        {
          "data": {
            "text/plain": [
              "(10, 1)"
            ]
          },
          "execution_count": 63,
          "metadata": {},
          "output_type": "execute_result"
        }
      ],
      "source": [
        "\n",
        "# import wikipedia sentences\n",
        "candidate_sentences = pd.read_csv(\"wiki_sentences_v2.csv\")\n",
        "candidate_sentences.shape"
      ]
    },
    {
      "cell_type": "code",
      "execution_count": 6,
      "metadata": {
        "colab": {
          "base_uri": "https://localhost:8080/",
          "height": 198
        },
        "colab_type": "code",
        "id": "RTU4APScNILN",
        "outputId": "b2b5bdc9-7f47-411c-9fc3-474321a2aecf"
      },
      "outputs": [
        {
          "data": {
            "text/html": [
              "<div>\n",
              "<style scoped>\n",
              "    .dataframe tbody tr th:only-of-type {\n",
              "        vertical-align: middle;\n",
              "    }\n",
              "\n",
              "    .dataframe tbody tr th {\n",
              "        vertical-align: top;\n",
              "    }\n",
              "\n",
              "    .dataframe thead th {\n",
              "        text-align: right;\n",
              "    }\n",
              "</style>\n",
              "<table border=\"1\" class=\"dataframe\">\n",
              "  <thead>\n",
              "    <tr style=\"text-align: right;\">\n",
              "      <th></th>\n",
              "      <th>sentence</th>\n",
              "    </tr>\n",
              "  </thead>\n",
              "  <tbody>\n",
              "    <tr>\n",
              "      <th>0</th>\n",
              "      <td>confused and frustrated, connie decides to leave on her own.</td>\n",
              "    </tr>\n",
              "    <tr>\n",
              "      <th>1</th>\n",
              "      <td>later, a woman’s scream is heard in the distance.</td>\n",
              "    </tr>\n",
              "    <tr>\n",
              "      <th>2</th>\n",
              "      <td>christian is then paralyzed by an elder.</td>\n",
              "    </tr>\n",
              "    <tr>\n",
              "      <th>3</th>\n",
              "      <td>the temple is set on fire.</td>\n",
              "    </tr>\n",
              "    <tr>\n",
              "      <th>4</th>\n",
              "      <td>outside, the cult wails with him.</td>\n",
              "    </tr>\n",
              "  </tbody>\n",
              "</table>\n",
              "</div>"
            ],
            "text/plain": [
              "                                                       sentence\n",
              "0  confused and frustrated, connie decides to leave on her own.\n",
              "1             later, a woman’s scream is heard in the distance.\n",
              "2                      christian is then paralyzed by an elder.\n",
              "3                                    the temple is set on fire.\n",
              "4                             outside, the cult wails with him."
            ]
          },
          "execution_count": 6,
          "metadata": {},
          "output_type": "execute_result"
        }
      ],
      "source": [
        "candidate_sentences.head()"
      ]
    },
    {
      "cell_type": "code",
      "execution_count": 69,
      "metadata": {
        "colab": {
          "base_uri": "https://localhost:8080/",
          "height": 126
        },
        "colab_type": "code",
        "id": "tRaWKBsHNIN9",
        "outputId": "b9fbc402-a4fd-49c9-bf9e-da9b22afaf15"
      },
      "outputs": [
        {
          "data": {
            "text/plain": [
              "9                                             as a customer, I am able to add items to cart.\n",
              "5                                           it's a parable of a woman's religious awakening—\n",
              "0                               confused and frustrated, connie decides to leave on her own.\n",
              "8    sebastian maniscalco and paul ben-victor were later revealed as being part of the cast.\n",
              "6                                           c. mackenzie, and craig vincent joined the cast.\n",
              "Name: sentence, dtype: object"
            ]
          },
          "execution_count": 69,
          "metadata": {},
          "output_type": "execute_result"
        }
      ],
      "source": [
        "candidate_sentences['sentence'].sample(5)"
      ]
    },
    {
      "cell_type": "code",
      "execution_count": 70,
      "metadata": {
        "colab": {
          "base_uri": "https://localhost:8080/",
          "height": 181
        },
        "colab_type": "code",
        "id": "BZU6Jcv4NWLe",
        "outputId": "927c0f8a-4345-4a6e-8c0d-3cadba9d682a"
      },
      "outputs": [
        {
          "name": "stdout",
          "output_type": "stream",
          "text": [
            "as ... prep\n",
            "a ... det\n",
            "customer ... pobj\n",
            ", ... punct\n",
            "I ... nsubj\n",
            "am ... ROOT\n",
            "able ... acomp\n",
            "to ... aux\n",
            "add ... xcomp\n",
            "items ... dobj\n",
            "to ... aux\n",
            "cart ... acl\n",
            ". ... punct\n"
          ]
        }
      ],
      "source": [
        "#check the subject and object of one of these sentences. \n",
        "#Ideally, there should be one subject and one object in the sentence:\n",
        "doc = nlp(\"as a customer, I am able to add items to cart.\")\n",
        "\n",
        "for tok in doc:\n",
        "  print(tok.text, \"...\", tok.dep_)\n",
        "#There is only one subject (‘process’) and only one object (‘standard’)"
      ]
    },
    {
      "cell_type": "code",
      "execution_count": 71,
      "metadata": {
        "colab": {},
        "colab_type": "code",
        "id": "ZbhQqaDvNXag"
      },
      "outputs": [],
      "source": [
        "def get_entities(sent):\n",
        "  ## chunk 1\n",
        "  ent1 = \"\"\n",
        "  ent2 = \"\"\n",
        "\n",
        "  prv_tok_dep = \"\"    # dependency tag of previous token in the sentence\n",
        "  prv_tok_text = \"\"   # previous token in the sentence\n",
        "\n",
        "  prefix = \"\"\n",
        "  modifier = \"\"\n",
        "\n",
        "  #############################################################\n",
        "  \n",
        "  for tok in nlp(sent):\n",
        "    ## chunk 2\n",
        "    # if token is a punctuation mark then move on to the next token\n",
        "    if tok.dep_ != \"punct\":\n",
        "      # check: token is a compound word or not\n",
        "      if tok.dep_ == \"compound\":\n",
        "        prefix = tok.text\n",
        "        # if the previous word was also a 'compound' then add the current word to it\n",
        "        if prv_tok_dep == \"compound\":\n",
        "          prefix = prv_tok_text + \" \"+ tok.text\n",
        "      \n",
        "      # check: token is a modifier or not\n",
        "      if tok.dep_.endswith(\"mod\") == True:\n",
        "        modifier = tok.text\n",
        "        # if the previous word was also a 'compound' then add the current word to it\n",
        "        if prv_tok_dep == \"compound\":\n",
        "          modifier = prv_tok_text + \" \"+ tok.text\n",
        "      \n",
        "      ## chunk 3\n",
        "      if tok.dep_.find(\"subj\") == True:\n",
        "        ent1 = modifier +\" \"+ prefix + \" \"+ tok.text\n",
        "        prefix = \"\"\n",
        "        modifier = \"\"\n",
        "        prv_tok_dep = \"\"\n",
        "        prv_tok_text = \"\"      \n",
        "\n",
        "      ## chunk 4\n",
        "      if tok.dep_.find(\"obj\") == True:\n",
        "        ent2 = modifier +\" \"+ prefix +\" \"+ tok.text\n",
        "        \n",
        "      ## chunk 5  \n",
        "      # update variables\n",
        "      prv_tok_dep = tok.dep_\n",
        "      prv_tok_text = tok.text\n",
        "  #############################################################\n",
        "\n",
        "  return [ent1.strip(), ent2.strip()]"
      ]
    },
    {
      "cell_type": "code",
      "execution_count": 72,
      "metadata": {
        "colab": {
          "base_uri": "https://localhost:8080/",
          "height": 35
        },
        "colab_type": "code",
        "id": "l6YqMrMuNXdO",
        "outputId": "942e93e0-6ee8-4d4c-a6a1-e5f147806105"
      },
      "outputs": [
        {
          "data": {
            "text/plain": [
              "['I', 'items']"
            ]
          },
          "execution_count": 72,
          "metadata": {},
          "output_type": "execute_result"
        }
      ],
      "source": [
        "get_entities(\"as a customer, I am able to add items to cart.\")\n"
      ]
    },
    {
      "cell_type": "code",
      "execution_count": 73,
      "metadata": {
        "colab": {
          "base_uri": "https://localhost:8080/",
          "height": 35
        },
        "colab_type": "code",
        "id": "ByJwEcazNXf0",
        "outputId": "3d13ad1c-1697-43e3-ed1b-a99ac0be3b58"
      },
      "outputs": [
        {
          "name": "stderr",
          "output_type": "stream",
          "text": [
            "100%|██████████| 10/10 [00:00<00:00, 105.60it/s]\n"
          ]
        }
      ],
      "source": [
        "entity_pairs = []\n",
        "\n",
        "for i in tqdm(candidate_sentences[\"sentence\"]):\n",
        "  entity_pairs.append(get_entities(i))"
      ]
    },
    {
      "cell_type": "code",
      "execution_count": 74,
      "metadata": {
        "colab": {
          "base_uri": "https://localhost:8080/",
          "height": 199
        },
        "colab_type": "code",
        "id": "Pz6NS0P-RnyZ",
        "outputId": "cd22b733-f8fc-4bea-f1f3-cb3ad4de80fd"
      },
      "outputs": [
        {
          "data": {
            "text/plain": [
              "[['it', 'religious  awakening'],\n",
              " ['c. mackenzie', 'craig cast'],\n",
              " ['later craig di francia', 'action cast'],\n",
              " ['sebastian  maniscalco', 'later paul ben cast'],\n",
              " ['I', 'items']]"
            ]
          },
          "execution_count": 74,
          "metadata": {},
          "output_type": "execute_result"
        }
      ],
      "source": [
        "entity_pairs[5:10]"
      ]
    },
    {
      "cell_type": "code",
      "execution_count": 75,
      "metadata": {
        "colab": {},
        "colab_type": "code",
        "id": "_7-g82jRR_Eb"
      },
      "outputs": [],
      "source": [
        "def get_relation(sent):\n",
        "\n",
        "  doc = nlp(sent)\n",
        "\n",
        "  # Matcher class object \n",
        "  matcher = Matcher(nlp.vocab)\n",
        "\n",
        "  #define the pattern \n",
        "  pattern = [{'DEP':'ROOT'}, \n",
        "            {'DEP':'prep','OP':\"?\"},\n",
        "            {'DEP':'agent','OP':\"?\"},  \n",
        "            {'POS':'ADJ','OP':\"?\"}] \n",
        "\n",
        "  matcher.add(\"matching_1\", [pattern]) \n",
        "\n",
        "  matches = matcher(doc)\n",
        "  k = len(matches) - 1\n",
        "\n",
        "  span = doc[matches[k][1]:matches[k][2]] \n",
        "\n",
        "  return(span.text)"
      ]
    },
    {
      "cell_type": "code",
      "execution_count": 76,
      "metadata": {
        "colab": {
          "base_uri": "https://localhost:8080/",
          "height": 35
        },
        "colab_type": "code",
        "id": "DNjN6ze2R_G4",
        "outputId": "742c5d4c-e549-46dd-f7bc-74a2385ee5db"
      },
      "outputs": [
        {
          "data": {
            "text/plain": [
              "'am able'"
            ]
          },
          "execution_count": 76,
          "metadata": {},
          "output_type": "execute_result"
        }
      ],
      "source": [
        "get_relation(\"as a customer, I am able to add items to cart.\")"
      ]
    },
    {
      "cell_type": "code",
      "execution_count": 77,
      "metadata": {
        "colab": {
          "base_uri": "https://localhost:8080/",
          "height": 35
        },
        "colab_type": "code",
        "id": "Qnzq0c1SSNPf",
        "outputId": "242034cf-9a01-4518-eda5-38c64705a397"
      },
      "outputs": [
        {
          "name": "stderr",
          "output_type": "stream",
          "text": [
            "100%|██████████| 10/10 [00:00<00:00, 96.63it/s]\n"
          ]
        }
      ],
      "source": [
        "relations = [get_relation(i) for i in tqdm(candidate_sentences['sentence'])]\n"
      ]
    },
    {
      "cell_type": "code",
      "execution_count": 78,
      "metadata": {
        "colab": {
          "base_uri": "https://localhost:8080/",
          "height": 945
        },
        "colab_type": "code",
        "id": "DwxYlwHMSQ-F",
        "outputId": "9431729b-a0a9-4d8e-da58-a6ea35f1e7aa"
      },
      "outputs": [
        {
          "data": {
            "text/plain": [
              "'s             1\n",
              "joined         1\n",
              "revealed       1\n",
              "revealed as    1\n",
              "am able        1\n",
              "dtype: int64"
            ]
          },
          "execution_count": 78,
          "metadata": {},
          "output_type": "execute_result"
        }
      ],
      "source": [
        "pd.Series(relations).value_counts()[5:10]"
      ]
    },
    {
      "cell_type": "code",
      "execution_count": 79,
      "metadata": {
        "colab": {},
        "colab_type": "code",
        "id": "l4X4-cHfVKqd"
      },
      "outputs": [],
      "source": [
        "# extract subject\n",
        "source = [i[0] for i in entity_pairs]\n",
        "\n",
        "# extract object\n",
        "target = [i[1] for i in entity_pairs]\n",
        "\n",
        "kg_df = pd.DataFrame({'source':source, 'target':target, 'edge':relations})"
      ]
    },
    {
      "cell_type": "code",
      "execution_count": 80,
      "metadata": {},
      "outputs": [],
      "source": [
        "# create a directed-graph from a dataframe\n",
        "G=nx.from_pandas_edgelist(kg_df, \"source\", \"target\", \n",
        "                          edge_attr=True, create_using=nx.MultiDiGraph())"
      ]
    },
    {
      "cell_type": "code",
      "execution_count": 82,
      "metadata": {},
      "outputs": [
        {
          "data": {
            "image/png": "[encoded data removed]",
            "text/plain": [
              "<Figure size 1200x1200 with 1 Axes>"
            ]
          },
          "metadata": {},
          "output_type": "display_data"
        }
      ],
      "source": [
        "plt.figure(figsize=(12,12))\n",
        "\n",
        "pos = nx.spring_layout(G)\n",
        "nx.draw(G, with_labels=True, node_color='skyblue', edge_cmap=plt.cm.Blues, pos = pos)\n",
        "plt.show()"
      ]
    }
  ],
  "metadata": {
    "colab": {
      "collapsed_sections": [],
      "include_colab_link": true,
      "name": "Knowledge_graph_NLP",
      "provenance": []
    },
    "kernelspec": {
      "display_name": "Python 3",
      "name": "python3"
    },
    "language_info": {
      "codemirror_mode": {
        "name": "ipython",
        "version": 3
      },
      "file_extension": ".py",
      "mimetype": "text/x-python",
      "name": "python",
      "nbconvert_exporter": "python",
      "pygments_lexer": "ipython3",
      "version": "3.9.10"
    }
  },
  "nbformat": 4,
  "nbformat_minor": 0
}
