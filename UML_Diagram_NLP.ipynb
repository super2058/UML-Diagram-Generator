{
  "cells": [
    {
      "cell_type": "code",
      "execution_count": 899,
      "metadata": {
        "colab": {
          "base_uri": "https://localhost:8080/",
          "height": 217
        },
        "colab_type": "code",
        "id": "nyVKauY8B5_N",
        "outputId": "7d872959-e1aa-4827-a471-5d85d9f6ddaa"
      },
      "outputs": [
        {
          "name": "stderr",
          "output_type": "stream",
          "text": [
            "c:\\Users\\Administrator\\AppData\\Local\\Programs\\Python\\Python310\\lib\\site-packages\\spacy\\util.py:877: UserWarning: [W095] Model 'en_core_web_sm' (3.5.0) was trained with spaCy v3.5 and may not be 100% compatible with the current version (3.4.4). If you see errors or degraded performance, download a newer compatible model or retrain your custom model with the current spaCy version. For more details and available updates, run: python -m spacy validate\n",
            "  warnings.warn(warn_msg)\n"
          ]
        },
        {
          "data": {
            "text/html": [
              "<span class=\"tex2jax_ignore\"><svg xmlns=\"http://www.w3.org/2000/svg\" xmlns:xlink=\"http://www.w3.org/1999/xlink\" xml:lang=\"en\" id=\"1891bf3ac51042dbbb9791268e89e68f-0\" class=\"displacy\" width=\"1975\" height=\"399.5\" direction=\"ltr\" style=\"max-width: none; height: 399.5px; color: #000000; background: #ffffff; font-family: Arial; direction: ltr\">\n",
              "<text class=\"displacy-token\" fill=\"currentColor\" text-anchor=\"middle\" y=\"309.5\">\n",
              "    <tspan class=\"displacy-word\" fill=\"currentColor\" x=\"50\">as</tspan>\n",
              "    <tspan class=\"displacy-tag\" dy=\"2em\" fill=\"currentColor\" x=\"50\">ADP</tspan>\n",
              "</text>\n",
              "\n",
              "<text class=\"displacy-token\" fill=\"currentColor\" text-anchor=\"middle\" y=\"309.5\">\n",
              "    <tspan class=\"displacy-word\" fill=\"currentColor\" x=\"225\">a</tspan>\n",
              "    <tspan class=\"displacy-tag\" dy=\"2em\" fill=\"currentColor\" x=\"225\">DET</tspan>\n",
              "</text>\n",
              "\n",
              "<text class=\"displacy-token\" fill=\"currentColor\" text-anchor=\"middle\" y=\"309.5\">\n",
              "    <tspan class=\"displacy-word\" fill=\"currentColor\" x=\"400\">customer,</tspan>\n",
              "    <tspan class=\"displacy-tag\" dy=\"2em\" fill=\"currentColor\" x=\"400\">NOUN</tspan>\n",
              "</text>\n",
              "\n",
              "<text class=\"displacy-token\" fill=\"currentColor\" text-anchor=\"middle\" y=\"309.5\">\n",
              "    <tspan class=\"displacy-word\" fill=\"currentColor\" x=\"575\">I</tspan>\n",
              "    <tspan class=\"displacy-tag\" dy=\"2em\" fill=\"currentColor\" x=\"575\">PRON</tspan>\n",
              "</text>\n",
              "\n",
              "<text class=\"displacy-token\" fill=\"currentColor\" text-anchor=\"middle\" y=\"309.5\">\n",
              "    <tspan class=\"displacy-word\" fill=\"currentColor\" x=\"750\">am</tspan>\n",
              "    <tspan class=\"displacy-tag\" dy=\"2em\" fill=\"currentColor\" x=\"750\">AUX</tspan>\n",
              "</text>\n",
              "\n",
              "<text class=\"displacy-token\" fill=\"currentColor\" text-anchor=\"middle\" y=\"309.5\">\n",
              "    <tspan class=\"displacy-word\" fill=\"currentColor\" x=\"925\">able</tspan>\n",
              "    <tspan class=\"displacy-tag\" dy=\"2em\" fill=\"currentColor\" x=\"925\">ADJ</tspan>\n",
              "</text>\n",
              "\n",
              "<text class=\"displacy-token\" fill=\"currentColor\" text-anchor=\"middle\" y=\"309.5\">\n",
              "    <tspan class=\"displacy-word\" fill=\"currentColor\" x=\"1100\">to</tspan>\n",
              "    <tspan class=\"displacy-tag\" dy=\"2em\" fill=\"currentColor\" x=\"1100\">PART</tspan>\n",
              "</text>\n",
              "\n",
              "<text class=\"displacy-token\" fill=\"currentColor\" text-anchor=\"middle\" y=\"309.5\">\n",
              "    <tspan class=\"displacy-word\" fill=\"currentColor\" x=\"1275\">add</tspan>\n",
              "    <tspan class=\"displacy-tag\" dy=\"2em\" fill=\"currentColor\" x=\"1275\">VERB</tspan>\n",
              "</text>\n",
              "\n",
              "<text class=\"displacy-token\" fill=\"currentColor\" text-anchor=\"middle\" y=\"309.5\">\n",
              "    <tspan class=\"displacy-word\" fill=\"currentColor\" x=\"1450\">items</tspan>\n",
              "    <tspan class=\"displacy-tag\" dy=\"2em\" fill=\"currentColor\" x=\"1450\">NOUN</tspan>\n",
              "</text>\n",
              "\n",
              "<text class=\"displacy-token\" fill=\"currentColor\" text-anchor=\"middle\" y=\"309.5\">\n",
              "    <tspan class=\"displacy-word\" fill=\"currentColor\" x=\"1625\">to</tspan>\n",
              "    <tspan class=\"displacy-tag\" dy=\"2em\" fill=\"currentColor\" x=\"1625\">PART</tspan>\n",
              "</text>\n",
              "\n",
              "<text class=\"displacy-token\" fill=\"currentColor\" text-anchor=\"middle\" y=\"309.5\">\n",
              "    <tspan class=\"displacy-word\" fill=\"currentColor\" x=\"1800\">cart</tspan>\n",
              "    <tspan class=\"displacy-tag\" dy=\"2em\" fill=\"currentColor\" x=\"1800\">VERB</tspan>\n",
              "</text>\n",
              "\n",
              "<g class=\"displacy-arrow\">\n",
              "    <path class=\"displacy-arc\" id=\"arrow-1891bf3ac51042dbbb9791268e89e68f-0-0\" stroke-width=\"2px\" d=\"M70,264.5 C70,2.0 750.0,2.0 750.0,264.5\" fill=\"none\" stroke=\"currentColor\"/>\n",
              "    <text dy=\"1.25em\" style=\"font-size: 0.8em; letter-spacing: 1px\">\n",
              "        <textPath xlink:href=\"#arrow-1891bf3ac51042dbbb9791268e89e68f-0-0\" class=\"displacy-label\" startOffset=\"50%\" side=\"left\" fill=\"currentColor\" text-anchor=\"middle\">prep</textPath>\n",
              "    </text>\n",
              "    <path class=\"displacy-arrowhead\" d=\"M70,266.5 L62,254.5 78,254.5\" fill=\"currentColor\"/>\n",
              "</g>\n",
              "\n",
              "<g class=\"displacy-arrow\">\n",
              "    <path class=\"displacy-arc\" id=\"arrow-1891bf3ac51042dbbb9791268e89e68f-0-1\" stroke-width=\"2px\" d=\"M245,264.5 C245,177.0 390.0,177.0 390.0,264.5\" fill=\"none\" stroke=\"currentColor\"/>\n",
              "    <text dy=\"1.25em\" style=\"font-size: 0.8em; letter-spacing: 1px\">\n",
              "        <textPath xlink:href=\"#arrow-1891bf3ac51042dbbb9791268e89e68f-0-1\" class=\"displacy-label\" startOffset=\"50%\" side=\"left\" fill=\"currentColor\" text-anchor=\"middle\">det</textPath>\n",
              "    </text>\n",
              "    <path class=\"displacy-arrowhead\" d=\"M245,266.5 L237,254.5 253,254.5\" fill=\"currentColor\"/>\n",
              "</g>\n",
              "\n",
              "<g class=\"displacy-arrow\">\n",
              "    <path class=\"displacy-arc\" id=\"arrow-1891bf3ac51042dbbb9791268e89e68f-0-2\" stroke-width=\"2px\" d=\"M70,264.5 C70,89.5 395.0,89.5 395.0,264.5\" fill=\"none\" stroke=\"currentColor\"/>\n",
              "    <text dy=\"1.25em\" style=\"font-size: 0.8em; letter-spacing: 1px\">\n",
              "        <textPath xlink:href=\"#arrow-1891bf3ac51042dbbb9791268e89e68f-0-2\" class=\"displacy-label\" startOffset=\"50%\" side=\"left\" fill=\"currentColor\" text-anchor=\"middle\">pobj</textPath>\n",
              "    </text>\n",
              "    <path class=\"displacy-arrowhead\" d=\"M395.0,266.5 L403.0,254.5 387.0,254.5\" fill=\"currentColor\"/>\n",
              "</g>\n",
              "\n",
              "<g class=\"displacy-arrow\">\n",
              "    <path class=\"displacy-arc\" id=\"arrow-1891bf3ac51042dbbb9791268e89e68f-0-3\" stroke-width=\"2px\" d=\"M595,264.5 C595,177.0 740.0,177.0 740.0,264.5\" fill=\"none\" stroke=\"currentColor\"/>\n",
              "    <text dy=\"1.25em\" style=\"font-size: 0.8em; letter-spacing: 1px\">\n",
              "        <textPath xlink:href=\"#arrow-1891bf3ac51042dbbb9791268e89e68f-0-3\" class=\"displacy-label\" startOffset=\"50%\" side=\"left\" fill=\"currentColor\" text-anchor=\"middle\">nsubj</textPath>\n",
              "    </text>\n",
              "    <path class=\"displacy-arrowhead\" d=\"M595,266.5 L587,254.5 603,254.5\" fill=\"currentColor\"/>\n",
              "</g>\n",
              "\n",
              "<g class=\"displacy-arrow\">\n",
              "    <path class=\"displacy-arc\" id=\"arrow-1891bf3ac51042dbbb9791268e89e68f-0-4\" stroke-width=\"2px\" d=\"M770,264.5 C770,177.0 915.0,177.0 915.0,264.5\" fill=\"none\" stroke=\"currentColor\"/>\n",
              "    <text dy=\"1.25em\" style=\"font-size: 0.8em; letter-spacing: 1px\">\n",
              "        <textPath xlink:href=\"#arrow-1891bf3ac51042dbbb9791268e89e68f-0-4\" class=\"displacy-label\" startOffset=\"50%\" side=\"left\" fill=\"currentColor\" text-anchor=\"middle\">acomp</textPath>\n",
              "    </text>\n",
              "    <path class=\"displacy-arrowhead\" d=\"M915.0,266.5 L923.0,254.5 907.0,254.5\" fill=\"currentColor\"/>\n",
              "</g>\n",
              "\n",
              "<g class=\"displacy-arrow\">\n",
              "    <path class=\"displacy-arc\" id=\"arrow-1891bf3ac51042dbbb9791268e89e68f-0-5\" stroke-width=\"2px\" d=\"M1120,264.5 C1120,177.0 1265.0,177.0 1265.0,264.5\" fill=\"none\" stroke=\"currentColor\"/>\n",
              "    <text dy=\"1.25em\" style=\"font-size: 0.8em; letter-spacing: 1px\">\n",
              "        <textPath xlink:href=\"#arrow-1891bf3ac51042dbbb9791268e89e68f-0-5\" class=\"displacy-label\" startOffset=\"50%\" side=\"left\" fill=\"currentColor\" text-anchor=\"middle\">aux</textPath>\n",
              "    </text>\n",
              "    <path class=\"displacy-arrowhead\" d=\"M1120,266.5 L1112,254.5 1128,254.5\" fill=\"currentColor\"/>\n",
              "</g>\n",
              "\n",
              "<g class=\"displacy-arrow\">\n",
              "    <path class=\"displacy-arc\" id=\"arrow-1891bf3ac51042dbbb9791268e89e68f-0-6\" stroke-width=\"2px\" d=\"M945,264.5 C945,89.5 1270.0,89.5 1270.0,264.5\" fill=\"none\" stroke=\"currentColor\"/>\n",
              "    <text dy=\"1.25em\" style=\"font-size: 0.8em; letter-spacing: 1px\">\n",
              "        <textPath xlink:href=\"#arrow-1891bf3ac51042dbbb9791268e89e68f-0-6\" class=\"displacy-label\" startOffset=\"50%\" side=\"left\" fill=\"currentColor\" text-anchor=\"middle\">xcomp</textPath>\n",
              "    </text>\n",
              "    <path class=\"displacy-arrowhead\" d=\"M1270.0,266.5 L1278.0,254.5 1262.0,254.5\" fill=\"currentColor\"/>\n",
              "</g>\n",
              "\n",
              "<g class=\"displacy-arrow\">\n",
              "    <path class=\"displacy-arc\" id=\"arrow-1891bf3ac51042dbbb9791268e89e68f-0-7\" stroke-width=\"2px\" d=\"M1295,264.5 C1295,177.0 1440.0,177.0 1440.0,264.5\" fill=\"none\" stroke=\"currentColor\"/>\n",
              "    <text dy=\"1.25em\" style=\"font-size: 0.8em; letter-spacing: 1px\">\n",
              "        <textPath xlink:href=\"#arrow-1891bf3ac51042dbbb9791268e89e68f-0-7\" class=\"displacy-label\" startOffset=\"50%\" side=\"left\" fill=\"currentColor\" text-anchor=\"middle\">dobj</textPath>\n",
              "    </text>\n",
              "    <path class=\"displacy-arrowhead\" d=\"M1440.0,266.5 L1448.0,254.5 1432.0,254.5\" fill=\"currentColor\"/>\n",
              "</g>\n",
              "\n",
              "<g class=\"displacy-arrow\">\n",
              "    <path class=\"displacy-arc\" id=\"arrow-1891bf3ac51042dbbb9791268e89e68f-0-8\" stroke-width=\"2px\" d=\"M1645,264.5 C1645,177.0 1790.0,177.0 1790.0,264.5\" fill=\"none\" stroke=\"currentColor\"/>\n",
              "    <text dy=\"1.25em\" style=\"font-size: 0.8em; letter-spacing: 1px\">\n",
              "        <textPath xlink:href=\"#arrow-1891bf3ac51042dbbb9791268e89e68f-0-8\" class=\"displacy-label\" startOffset=\"50%\" side=\"left\" fill=\"currentColor\" text-anchor=\"middle\">aux</textPath>\n",
              "    </text>\n",
              "    <path class=\"displacy-arrowhead\" d=\"M1645,266.5 L1637,254.5 1653,254.5\" fill=\"currentColor\"/>\n",
              "</g>\n",
              "\n",
              "<g class=\"displacy-arrow\">\n",
              "    <path class=\"displacy-arc\" id=\"arrow-1891bf3ac51042dbbb9791268e89e68f-0-9\" stroke-width=\"2px\" d=\"M1470,264.5 C1470,89.5 1795.0,89.5 1795.0,264.5\" fill=\"none\" stroke=\"currentColor\"/>\n",
              "    <text dy=\"1.25em\" style=\"font-size: 0.8em; letter-spacing: 1px\">\n",
              "        <textPath xlink:href=\"#arrow-1891bf3ac51042dbbb9791268e89e68f-0-9\" class=\"displacy-label\" startOffset=\"50%\" side=\"left\" fill=\"currentColor\" text-anchor=\"middle\">acl</textPath>\n",
              "    </text>\n",
              "    <path class=\"displacy-arrowhead\" d=\"M1795.0,266.5 L1803.0,254.5 1787.0,254.5\" fill=\"currentColor\"/>\n",
              "</g>\n",
              "</svg></span>"
            ],
            "text/plain": [
              "<IPython.core.display.HTML object>"
            ]
          },
          "metadata": {},
          "output_type": "display_data"
        },
        {
          "name": "stdout",
          "output_type": "stream",
          "text": [
            "as ... prep\n",
            "a ... det\n",
            "customer ... pobj\n",
            ", ... punct\n",
            "I ... nsubj\n",
            "am ... ROOT\n",
            "able ... acomp\n",
            "to ... aux\n",
            "add ... xcomp\n",
            "items ... dobj\n",
            "to ... aux\n",
            "cart ... acl\n"
          ]
        }
      ],
      "source": [
        "import spacy\n",
        "from spacy import displacy\n",
        "import pandas as pd\n",
        "\n",
        "nlp = spacy.load('en_core_web_sm')\n",
        "\n",
        "doc = nlp(\"as a customer, I am able to add items to cart\")\n",
        "\n",
        "displacy.render(doc, style=\"dep\", jupyter=True)\n",
        "for tok in doc:\n",
        "  print(tok.text, \"...\", tok.dep_)"
      ]
    },
    {
      "cell_type": "code",
      "execution_count": 900,
      "metadata": {},
      "outputs": [
        {
          "name": "stdout",
          "output_type": "stream",
          "text": [
            "325\n",
            "{'thru', 'at', 'if', 'top', 'such', 'due', \"'re\", 'no', 'which', 'does', 'it', 'since', 'nor', 'anyone', 'please', \"n't\", 'therefore', 'with', 'formerly', 'again', 'who', 'been', 'fifty', 'whatever', 'my', 'very', 'hereupon', 'our', 'neither', 'ourselves', 'take', 'them', 'until', 'front', 'anyway', 'just', 'keep', 'noone', '’s', \"'m\", 'and', 'twenty', 'whence', 'i', 'seemed', 'not', 'latterly', 'former', '’m', 'latter', 'more', 'her', 'somehow', 'herself', 'two', 'by', 'some', 'whether', 'over', 'five', 'say', 'perhaps', 'third', 'everyone', 'n’t', 'every', 'to', 'mine', 'anywhere', 'any', 're', 'even', 'doing', 'or', 'there', 'ten', 'along', 'eleven', 'eight', 'their', 'forty', 'only', 'being', 'in', 'had', 'via', 'whither', 'elsewhere', 'they', 'are', 'because', 'least', 'him', 'whereafter', 'part', '‘ll', 'all', 'themselves', 'between', 'thereafter', '’ve', 'now', 'further', 'hence', 'moreover', 'might', 'itself', 'than', 'up', 'herein', 'have', 'an', 'sixty', 'would', 'twelve', 'yourself', 'namely', 'yours', 'myself', 'that', 'yourselves', '‘s', 'bottom', 'amongst', 'whoever', 'below', 'rather', \"'ve\", 'whereby', 'do', 'serious', 'three', 'then', 'us', 'using', 'ever', 'becoming', 'onto', 'ca', 'against', 'within', '’d', 'back', 'thereby', 'after', 'yet', 'someone', 'became', 'name', 'what', 'am', 'himself', 'already', 'still', 'under', 'hereby', 'although', 'too', 'was', 'six', 'once', 'always', 'side', 'off', 'me', 'before', 'becomes', 'your', 'where', 'made', '‘ve', \"'ll\", 'first', 'either', 'nevertheless', 'another', 'show', 'throughout', 'toward', 'whereas', 'become', 'therein', 'the', 'one', 'may', 'among', 'several', 'somewhere', 'should', 'also', 'nowhere', 'upon', 'same', 'could', 'often', 'seeming', 'his', 'hundred', 'on', 'beyond', 'both', 'others', 'for', 'into', 'did', 'a', '’ll', 'call', 'alone', 'meanwhile', 'thereupon', 'really', 'of', 'much', 'amount', 'is', 'few', 'fifteen', 'so', 'these', 'nobody', '‘d', 'cannot', 'never', \"'d\", 'together', 'how', 'whose', 'enough', 'everywhere', 'wherein', 'across', 'during', 'whole', 'without', 'wherever', '’re', 'hereafter', '‘re', 'she', 'make', 'everything', 'full', 'none', 'various', 'something', 'unless', 'here', 'whereupon', '‘m', 'beside', 'next', 'towards', 'will', 'per', 'behind', 'done', 'except', 'give', 'seems', 'its', 'as', 'beforehand', 'when', 'afterwards', 'about', 'else', 'whenever', 'why', 'well', 'indeed', 'through', 'each', 'four', 'last', 'regarding', 'those', 'otherwise', 'nine', 'be', 'many', 'seem', 'around', 'nothing', 'see', 'put', 'able', 'he', 'sometimes', 'almost', 'you', \"'s\", 'less', 'however', 'anyhow', 'quite', 'were', 'above', 'besides', 'anything', 'n‘t', 'move', 'out', 'we', 'but', 'while', 'own', 'has', 'this', 'hers', 'though', 'used', 'from', 'most', 'ours', 'thus', 'thence', 'whom', 'mostly', 'sometime', 'go', 'down', 'other', 'must', 'empty'}\n"
          ]
        }
      ],
      "source": [
        "from spacy.lang.en.stop_words import STOP_WORDS\n",
        "spacy.lang.en.STOP_WORDS.add(\"able\")\n",
        "# spacy.lang.en.STOP_WORDS.remove(\"get\")\n",
        "stop = STOP_WORDS\n",
        "print(len(stop))\n",
        "print(stop)"
      ]
    },
    {
      "cell_type": "code",
      "execution_count": 901,
      "metadata": {},
      "outputs": [
        {
          "name": "stdout",
          "output_type": "stream",
          "text": [
            "['as', 'a', 'customer', ',', 'I', 'am', 'able', 'to', 'add', 'items', 'to', 'cart']\n",
            "['customer', 'add', 'items', 'cart']\n",
            "customer add items cart\n"
          ]
        }
      ],
      "source": [
        "tokens = [token.text for token in doc]\n",
        "print(tokens)\n",
        "\n",
        "#Creating and updating our list of filtered tokens using list comprehension \n",
        "\n",
        "filtered = [token.text for token in doc if token.is_stop == False and token.text.isalpha() == True]\n",
        "\n",
        "print(filtered)\n",
        "\n",
        "new_doc= ' '.join(filtered)\n",
        "new_doc = nlp(new_doc)\n",
        "print(new_doc)"
      ]
    },
    {
      "cell_type": "code",
      "execution_count": 902,
      "metadata": {},
      "outputs": [
        {
          "name": "stdout",
          "output_type": "stream",
          "text": [
            "       text     lemma   pos  tag       dep\n",
            "0  customer  customer  NOUN   NN     nsubj\n",
            "1       add       add  VERB  VBP      ROOT\n",
            "2     items      item  NOUN  NNS  compound\n",
            "3      cart      cart  NOUN   NN      dobj\n"
          ]
        },
        {
          "name": "stderr",
          "output_type": "stream",
          "text": [
            "C:\\Users\\Administrator\\AppData\\Local\\Temp\\ipykernel_10932\\2445220833.py:3: FutureWarning: The frame.append method is deprecated and will be removed from pandas in a future version. Use pandas.concat instead.\n",
            "  df = df.append({'text': token.text, 'lemma': token.lemma_, 'pos': token.pos_, 'tag': token.tag_, 'dep': token.dep_}, ignore_index=True)\n",
            "C:\\Users\\Administrator\\AppData\\Local\\Temp\\ipykernel_10932\\2445220833.py:3: FutureWarning: The frame.append method is deprecated and will be removed from pandas in a future version. Use pandas.concat instead.\n",
            "  df = df.append({'text': token.text, 'lemma': token.lemma_, 'pos': token.pos_, 'tag': token.tag_, 'dep': token.dep_}, ignore_index=True)\n",
            "C:\\Users\\Administrator\\AppData\\Local\\Temp\\ipykernel_10932\\2445220833.py:3: FutureWarning: The frame.append method is deprecated and will be removed from pandas in a future version. Use pandas.concat instead.\n",
            "  df = df.append({'text': token.text, 'lemma': token.lemma_, 'pos': token.pos_, 'tag': token.tag_, 'dep': token.dep_}, ignore_index=True)\n",
            "C:\\Users\\Administrator\\AppData\\Local\\Temp\\ipykernel_10932\\2445220833.py:3: FutureWarning: The frame.append method is deprecated and will be removed from pandas in a future version. Use pandas.concat instead.\n",
            "  df = df.append({'text': token.text, 'lemma': token.lemma_, 'pos': token.pos_, 'tag': token.tag_, 'dep': token.dep_}, ignore_index=True)\n"
          ]
        }
      ],
      "source": [
        "df = pd.DataFrame(columns=['text', 'lemma', 'pos', 'tag', 'dep'])\n",
        "for token in new_doc:\n",
        "    df = df.append({'text': token.text, 'lemma': token.lemma_, 'pos': token.pos_, 'tag': token.tag_, 'dep': token.dep_}, ignore_index=True)\n",
        "print(df)"
      ]
    },
    {
      "cell_type": "code",
      "execution_count": 903,
      "metadata": {},
      "outputs": [
        {
          "name": "stdout",
          "output_type": "stream",
          "text": [
            "        text     lemma    pos  tag    dep is_stop\n",
            "0         as        as    ADP   IN   prep    True\n",
            "1          a         a    DET   DT    det    True\n",
            "2   customer  customer   NOUN   NN   pobj   False\n",
            "3          ,         ,  PUNCT    ,  punct   False\n",
            "4          I         I   PRON  PRP  nsubj    True\n",
            "5         am        be    AUX  VBP   ROOT    True\n",
            "6       able      able    ADJ   JJ  acomp    True\n",
            "7         to        to   PART   TO    aux    True\n",
            "8        add       add   VERB   VB  xcomp   False\n",
            "9      items      item   NOUN  NNS   dobj   False\n",
            "10        to        to   PART   TO    aux    True\n",
            "11      cart      cart   VERB   VB    acl   False\n"
          ]
        },
        {
          "name": "stderr",
          "output_type": "stream",
          "text": [
            "C:\\Users\\Administrator\\AppData\\Local\\Temp\\ipykernel_10932\\2053366144.py:3: FutureWarning: The frame.append method is deprecated and will be removed from pandas in a future version. Use pandas.concat instead.\n",
            "  df2 = df2.append({'text': token.text, 'lemma': token.lemma_, 'pos': token.pos_, 'tag': token.tag_, 'dep': token.dep_, 'is_stop': token.is_stop}, ignore_index=True)\n",
            "C:\\Users\\Administrator\\AppData\\Local\\Temp\\ipykernel_10932\\2053366144.py:3: FutureWarning: The frame.append method is deprecated and will be removed from pandas in a future version. Use pandas.concat instead.\n",
            "  df2 = df2.append({'text': token.text, 'lemma': token.lemma_, 'pos': token.pos_, 'tag': token.tag_, 'dep': token.dep_, 'is_stop': token.is_stop}, ignore_index=True)\n",
            "C:\\Users\\Administrator\\AppData\\Local\\Temp\\ipykernel_10932\\2053366144.py:3: FutureWarning: In a future version, object-dtype columns with all-bool values will not be included in reductions with bool_only=True. Explicitly cast to bool dtype instead.\n",
            "  df2 = df2.append({'text': token.text, 'lemma': token.lemma_, 'pos': token.pos_, 'tag': token.tag_, 'dep': token.dep_, 'is_stop': token.is_stop}, ignore_index=True)\n",
            "C:\\Users\\Administrator\\AppData\\Local\\Temp\\ipykernel_10932\\2053366144.py:3: FutureWarning: The frame.append method is deprecated and will be removed from pandas in a future version. Use pandas.concat instead.\n",
            "  df2 = df2.append({'text': token.text, 'lemma': token.lemma_, 'pos': token.pos_, 'tag': token.tag_, 'dep': token.dep_, 'is_stop': token.is_stop}, ignore_index=True)\n",
            "C:\\Users\\Administrator\\AppData\\Local\\Temp\\ipykernel_10932\\2053366144.py:3: FutureWarning: In a future version, object-dtype columns with all-bool values will not be included in reductions with bool_only=True. Explicitly cast to bool dtype instead.\n",
            "  df2 = df2.append({'text': token.text, 'lemma': token.lemma_, 'pos': token.pos_, 'tag': token.tag_, 'dep': token.dep_, 'is_stop': token.is_stop}, ignore_index=True)\n",
            "C:\\Users\\Administrator\\AppData\\Local\\Temp\\ipykernel_10932\\2053366144.py:3: FutureWarning: The frame.append method is deprecated and will be removed from pandas in a future version. Use pandas.concat instead.\n",
            "  df2 = df2.append({'text': token.text, 'lemma': token.lemma_, 'pos': token.pos_, 'tag': token.tag_, 'dep': token.dep_, 'is_stop': token.is_stop}, ignore_index=True)\n",
            "C:\\Users\\Administrator\\AppData\\Local\\Temp\\ipykernel_10932\\2053366144.py:3: FutureWarning: In a future version, object-dtype columns with all-bool values will not be included in reductions with bool_only=True. Explicitly cast to bool dtype instead.\n",
            "  df2 = df2.append({'text': token.text, 'lemma': token.lemma_, 'pos': token.pos_, 'tag': token.tag_, 'dep': token.dep_, 'is_stop': token.is_stop}, ignore_index=True)\n",
            "C:\\Users\\Administrator\\AppData\\Local\\Temp\\ipykernel_10932\\2053366144.py:3: FutureWarning: The frame.append method is deprecated and will be removed from pandas in a future version. Use pandas.concat instead.\n",
            "  df2 = df2.append({'text': token.text, 'lemma': token.lemma_, 'pos': token.pos_, 'tag': token.tag_, 'dep': token.dep_, 'is_stop': token.is_stop}, ignore_index=True)\n",
            "C:\\Users\\Administrator\\AppData\\Local\\Temp\\ipykernel_10932\\2053366144.py:3: FutureWarning: In a future version, object-dtype columns with all-bool values will not be included in reductions with bool_only=True. Explicitly cast to bool dtype instead.\n",
            "  df2 = df2.append({'text': token.text, 'lemma': token.lemma_, 'pos': token.pos_, 'tag': token.tag_, 'dep': token.dep_, 'is_stop': token.is_stop}, ignore_index=True)\n",
            "C:\\Users\\Administrator\\AppData\\Local\\Temp\\ipykernel_10932\\2053366144.py:3: FutureWarning: The frame.append method is deprecated and will be removed from pandas in a future version. Use pandas.concat instead.\n",
            "  df2 = df2.append({'text': token.text, 'lemma': token.lemma_, 'pos': token.pos_, 'tag': token.tag_, 'dep': token.dep_, 'is_stop': token.is_stop}, ignore_index=True)\n",
            "C:\\Users\\Administrator\\AppData\\Local\\Temp\\ipykernel_10932\\2053366144.py:3: FutureWarning: In a future version, object-dtype columns with all-bool values will not be included in reductions with bool_only=True. Explicitly cast to bool dtype instead.\n",
            "  df2 = df2.append({'text': token.text, 'lemma': token.lemma_, 'pos': token.pos_, 'tag': token.tag_, 'dep': token.dep_, 'is_stop': token.is_stop}, ignore_index=True)\n",
            "C:\\Users\\Administrator\\AppData\\Local\\Temp\\ipykernel_10932\\2053366144.py:3: FutureWarning: The frame.append method is deprecated and will be removed from pandas in a future version. Use pandas.concat instead.\n",
            "  df2 = df2.append({'text': token.text, 'lemma': token.lemma_, 'pos': token.pos_, 'tag': token.tag_, 'dep': token.dep_, 'is_stop': token.is_stop}, ignore_index=True)\n",
            "C:\\Users\\Administrator\\AppData\\Local\\Temp\\ipykernel_10932\\2053366144.py:3: FutureWarning: In a future version, object-dtype columns with all-bool values will not be included in reductions with bool_only=True. Explicitly cast to bool dtype instead.\n",
            "  df2 = df2.append({'text': token.text, 'lemma': token.lemma_, 'pos': token.pos_, 'tag': token.tag_, 'dep': token.dep_, 'is_stop': token.is_stop}, ignore_index=True)\n",
            "C:\\Users\\Administrator\\AppData\\Local\\Temp\\ipykernel_10932\\2053366144.py:3: FutureWarning: The frame.append method is deprecated and will be removed from pandas in a future version. Use pandas.concat instead.\n",
            "  df2 = df2.append({'text': token.text, 'lemma': token.lemma_, 'pos': token.pos_, 'tag': token.tag_, 'dep': token.dep_, 'is_stop': token.is_stop}, ignore_index=True)\n",
            "C:\\Users\\Administrator\\AppData\\Local\\Temp\\ipykernel_10932\\2053366144.py:3: FutureWarning: In a future version, object-dtype columns with all-bool values will not be included in reductions with bool_only=True. Explicitly cast to bool dtype instead.\n",
            "  df2 = df2.append({'text': token.text, 'lemma': token.lemma_, 'pos': token.pos_, 'tag': token.tag_, 'dep': token.dep_, 'is_stop': token.is_stop}, ignore_index=True)\n",
            "C:\\Users\\Administrator\\AppData\\Local\\Temp\\ipykernel_10932\\2053366144.py:3: FutureWarning: The frame.append method is deprecated and will be removed from pandas in a future version. Use pandas.concat instead.\n",
            "  df2 = df2.append({'text': token.text, 'lemma': token.lemma_, 'pos': token.pos_, 'tag': token.tag_, 'dep': token.dep_, 'is_stop': token.is_stop}, ignore_index=True)\n",
            "C:\\Users\\Administrator\\AppData\\Local\\Temp\\ipykernel_10932\\2053366144.py:3: FutureWarning: In a future version, object-dtype columns with all-bool values will not be included in reductions with bool_only=True. Explicitly cast to bool dtype instead.\n",
            "  df2 = df2.append({'text': token.text, 'lemma': token.lemma_, 'pos': token.pos_, 'tag': token.tag_, 'dep': token.dep_, 'is_stop': token.is_stop}, ignore_index=True)\n",
            "C:\\Users\\Administrator\\AppData\\Local\\Temp\\ipykernel_10932\\2053366144.py:3: FutureWarning: The frame.append method is deprecated and will be removed from pandas in a future version. Use pandas.concat instead.\n",
            "  df2 = df2.append({'text': token.text, 'lemma': token.lemma_, 'pos': token.pos_, 'tag': token.tag_, 'dep': token.dep_, 'is_stop': token.is_stop}, ignore_index=True)\n",
            "C:\\Users\\Administrator\\AppData\\Local\\Temp\\ipykernel_10932\\2053366144.py:3: FutureWarning: In a future version, object-dtype columns with all-bool values will not be included in reductions with bool_only=True. Explicitly cast to bool dtype instead.\n",
            "  df2 = df2.append({'text': token.text, 'lemma': token.lemma_, 'pos': token.pos_, 'tag': token.tag_, 'dep': token.dep_, 'is_stop': token.is_stop}, ignore_index=True)\n",
            "C:\\Users\\Administrator\\AppData\\Local\\Temp\\ipykernel_10932\\2053366144.py:3: FutureWarning: The frame.append method is deprecated and will be removed from pandas in a future version. Use pandas.concat instead.\n",
            "  df2 = df2.append({'text': token.text, 'lemma': token.lemma_, 'pos': token.pos_, 'tag': token.tag_, 'dep': token.dep_, 'is_stop': token.is_stop}, ignore_index=True)\n",
            "C:\\Users\\Administrator\\AppData\\Local\\Temp\\ipykernel_10932\\2053366144.py:3: FutureWarning: In a future version, object-dtype columns with all-bool values will not be included in reductions with bool_only=True. Explicitly cast to bool dtype instead.\n",
            "  df2 = df2.append({'text': token.text, 'lemma': token.lemma_, 'pos': token.pos_, 'tag': token.tag_, 'dep': token.dep_, 'is_stop': token.is_stop}, ignore_index=True)\n",
            "C:\\Users\\Administrator\\AppData\\Local\\Temp\\ipykernel_10932\\2053366144.py:3: FutureWarning: The frame.append method is deprecated and will be removed from pandas in a future version. Use pandas.concat instead.\n",
            "  df2 = df2.append({'text': token.text, 'lemma': token.lemma_, 'pos': token.pos_, 'tag': token.tag_, 'dep': token.dep_, 'is_stop': token.is_stop}, ignore_index=True)\n",
            "C:\\Users\\Administrator\\AppData\\Local\\Temp\\ipykernel_10932\\2053366144.py:3: FutureWarning: In a future version, object-dtype columns with all-bool values will not be included in reductions with bool_only=True. Explicitly cast to bool dtype instead.\n",
            "  df2 = df2.append({'text': token.text, 'lemma': token.lemma_, 'pos': token.pos_, 'tag': token.tag_, 'dep': token.dep_, 'is_stop': token.is_stop}, ignore_index=True)\n"
          ]
        }
      ],
      "source": [
        "df2 = pd.DataFrame(columns=['text', 'lemma', 'pos', 'tag', 'dep', 'is_stop'])\n",
        "for token in doc:\n",
        "    df2 = df2.append({'text': token.text, 'lemma': token.lemma_, 'pos': token.pos_, 'tag': token.tag_, 'dep': token.dep_, 'is_stop': token.is_stop}, ignore_index=True)\n",
        "print(df2)"
      ]
    },
    {
      "cell_type": "code",
      "execution_count": 904,
      "metadata": {
        "colab": {},
        "colab_type": "code",
        "id": "UelOGJpWMfu_"
      },
      "outputs": [
        {
          "name": "stderr",
          "output_type": "stream",
          "text": [
            "c:\\Users\\Administrator\\AppData\\Local\\Programs\\Python\\Python310\\lib\\site-packages\\spacy\\util.py:877: UserWarning: [W095] Model 'en_core_web_sm' (3.5.0) was trained with spaCy v3.5 and may not be 100% compatible with the current version (3.4.4). If you see errors or degraded performance, download a newer compatible model or retrain your custom model with the current spaCy version. For more details and available updates, run: python -m spacy validate\n",
            "  warnings.warn(warn_msg)\n"
          ]
        }
      ],
      "source": [
        "import re\n",
        "import pandas as pd\n",
        "import bs4\n",
        "import requests\n",
        "import spacy\n",
        "from spacy import displacy\n",
        "nlp = spacy.load('en_core_web_sm')\n",
        "\n",
        "from spacy.matcher import Matcher \n",
        "from spacy.tokens import Span \n",
        "\n",
        "import networkx as nx\n",
        "\n",
        "import matplotlib.pyplot as plt\n",
        "from tqdm import tqdm\n",
        "\n",
        "pd.set_option('display.max_colwidth', 200)\n",
        "%matplotlib inline"
      ]
    },
    {
      "cell_type": "code",
      "execution_count": 905,
      "metadata": {
        "colab": {
          "base_uri": "https://localhost:8080/",
          "height": 35
        },
        "colab_type": "code",
        "id": "0ECfu7CINEuo",
        "outputId": "306ee708-9e2a-4998-b80a-57a68eedd473"
      },
      "outputs": [
        {
          "data": {
            "text/plain": [
              "(9, 1)"
            ]
          },
          "execution_count": 905,
          "metadata": {},
          "output_type": "execute_result"
        }
      ],
      "source": [
        "\n",
        "# import wikipedia sentences\n",
        "candidate_sentences = pd.read_csv(\"wiki_sentences_v2.csv\")\n",
        "candidate_sentences.shape"
      ]
    },
    {
      "cell_type": "code",
      "execution_count": 906,
      "metadata": {
        "colab": {
          "base_uri": "https://localhost:8080/",
          "height": 198
        },
        "colab_type": "code",
        "id": "RTU4APScNILN",
        "outputId": "b2b5bdc9-7f47-411c-9fc3-474321a2aecf"
      },
      "outputs": [
        {
          "data": {
            "text/html": [
              "<div>\n",
              "<style scoped>\n",
              "    .dataframe tbody tr th:only-of-type {\n",
              "        vertical-align: middle;\n",
              "    }\n",
              "\n",
              "    .dataframe tbody tr th {\n",
              "        vertical-align: top;\n",
              "    }\n",
              "\n",
              "    .dataframe thead th {\n",
              "        text-align: right;\n",
              "    }\n",
              "</style>\n",
              "<table border=\"1\" class=\"dataframe\">\n",
              "  <thead>\n",
              "    <tr style=\"text-align: right;\">\n",
              "      <th></th>\n",
              "      <th>sentence</th>\n",
              "    </tr>\n",
              "  </thead>\n",
              "  <tbody>\n",
              "    <tr>\n",
              "      <th>0</th>\n",
              "      <td>confused and frustrated, connie decides to leave on her own.</td>\n",
              "    </tr>\n",
              "    <tr>\n",
              "      <th>1</th>\n",
              "      <td>later, a woman’s scream is heard in the distance.</td>\n",
              "    </tr>\n",
              "    <tr>\n",
              "      <th>2</th>\n",
              "      <td>christian is then paralyzed by an elder.</td>\n",
              "    </tr>\n",
              "    <tr>\n",
              "      <th>3</th>\n",
              "      <td>the temple is set on fire.</td>\n",
              "    </tr>\n",
              "    <tr>\n",
              "      <th>4</th>\n",
              "      <td>outside, the cult wails with him.</td>\n",
              "    </tr>\n",
              "  </tbody>\n",
              "</table>\n",
              "</div>"
            ],
            "text/plain": [
              "                                                       sentence\n",
              "0  confused and frustrated, connie decides to leave on her own.\n",
              "1             later, a woman’s scream is heard in the distance.\n",
              "2                      christian is then paralyzed by an elder.\n",
              "3                                    the temple is set on fire.\n",
              "4                             outside, the cult wails with him."
            ]
          },
          "execution_count": 906,
          "metadata": {},
          "output_type": "execute_result"
        }
      ],
      "source": [
        "candidate_sentences.head()"
      ]
    },
    {
      "cell_type": "code",
      "execution_count": 907,
      "metadata": {
        "colab": {
          "base_uri": "https://localhost:8080/",
          "height": 126
        },
        "colab_type": "code",
        "id": "tRaWKBsHNIN9",
        "outputId": "b9fbc402-a4fd-49c9-bf9e-da9b22afaf15"
      },
      "outputs": [
        {
          "data": {
            "text/plain": [
              "8    sebastian maniscalco and paul ben-victor were later revealed as being part of the cast.\n",
              "3                                                                 the temple is set on fire.\n",
              "5                                           it's a parable of a woman's religious awakening—\n",
              "0                               confused and frustrated, connie decides to leave on her own.\n",
              "7          later, craig di francia and action bronson were revealed to have joined the cast.\n",
              "Name: sentence, dtype: object"
            ]
          },
          "execution_count": 907,
          "metadata": {},
          "output_type": "execute_result"
        }
      ],
      "source": [
        "candidate_sentences['sentence'].sample(5)"
      ]
    },
    {
      "cell_type": "code",
      "execution_count": 908,
      "metadata": {
        "colab": {},
        "colab_type": "code",
        "id": "ZbhQqaDvNXag"
      },
      "outputs": [],
      "source": [
        "def get_entities(sentence):\n",
        "  ## chunk 1\n",
        "  ent1 = \"\"\n",
        "  ent2 = \"\"\n",
        "\n",
        "  prv_tok_dep = \"\"    # dependency tag of previous token in the sentence\n",
        "  prv_tok_text = \"\"   # previous token in the sentence\n",
        "\n",
        "  prefix = \"\"\n",
        "  modifier = \"\"\n",
        "\n",
        "  #############################################################\n",
        "  \n",
        "  for tok in nlp(sentence):\n",
        "    ## chunk 2\n",
        "    # if token is a punctuation mark then move on to the next token\n",
        "    if tok.dep_ != \"punct\":\n",
        "      # check: token is a compound word or not\n",
        "      if tok.dep_ == \"compound\":\n",
        "        prefix = tok.text\n",
        "        # if the previous word was also a 'compound' then add the current word to it\n",
        "        if prv_tok_dep == \"compound\":\n",
        "          prefix = prv_tok_text + \" \"+ tok.text\n",
        "      \n",
        "      # check: token is a modifier or not\n",
        "      if tok.dep_.endswith(\"mod\") == True:\n",
        "        modifier = tok.text\n",
        "        # if the previous word was also a 'compound' then add the current word to it\n",
        "        if prv_tok_dep == \"compound\":\n",
        "          modifier = prv_tok_text + \" \"+ tok.text\n",
        "      \n",
        "    ## chunk 3\n",
        "    if tok.dep_.find(\"subj\") == True:\n",
        "        ent1 = modifier +\" \"+ prefix + \" \"+ tok.text\n",
        "        prefix = \"\"\n",
        "        modifier = \"\"\n",
        "        prv_tok_dep = \"\"\n",
        "        prv_tok_text = \"\"      \n",
        "\n",
        "    ## chunk 4\n",
        "    if tok.dep_.find(\"obj\") == True:\n",
        "      ent2 = modifier +\" \"+ prefix +\" \"+ tok.text\n",
        "        \n",
        "      ## chunk 5  \n",
        "      # update variables\n",
        "      prv_tok_dep = tok.dep_\n",
        "      prv_tok_text = tok.text\n",
        "  #############################################################\n",
        "\n",
        "  return [ent1.strip(), ent2.strip()]"
      ]
    },
    {
      "cell_type": "code",
      "execution_count": 909,
      "metadata": {
        "colab": {
          "base_uri": "https://localhost:8080/",
          "height": 35
        },
        "colab_type": "code",
        "id": "l6YqMrMuNXdO",
        "outputId": "942e93e0-6ee8-4d4c-a6a1-e5f147806105"
      },
      "outputs": [
        {
          "name": "stdout",
          "output_type": "stream",
          "text": [
            "['customer', 'items cart']\n"
          ]
        }
      ],
      "source": [
        "entity_pairs = get_entities(new_doc)\n",
        "print(entity_pairs)\n"
      ]
    },
    {
      "cell_type": "code",
      "execution_count": 910,
      "metadata": {
        "colab": {
          "base_uri": "https://localhost:8080/",
          "height": 35
        },
        "colab_type": "code",
        "id": "ByJwEcazNXf0",
        "outputId": "3d13ad1c-1697-43e3-ed1b-a99ac0be3b58"
      },
      "outputs": [
        {
          "name": "stderr",
          "output_type": "stream",
          "text": [
            "100%|██████████| 9/9 [00:00<00:00, 311.39it/s]\n"
          ]
        }
      ],
      "source": [
        "entity_pairs2 = []\n",
        "\n",
        "for i in tqdm(candidate_sentences[\"sentence\"]):\n",
        "  entity_pairs2.append(get_entities(i))"
      ]
    },
    {
      "cell_type": "code",
      "execution_count": 911,
      "metadata": {
        "colab": {
          "base_uri": "https://localhost:8080/",
          "height": 199
        },
        "colab_type": "code",
        "id": "Pz6NS0P-RnyZ",
        "outputId": "cd22b733-f8fc-4bea-f1f3-cb3ad4de80fd"
      },
      "outputs": [
        {
          "data": {
            "text/plain": [
              "[['connie', 'own'],\n",
              " ['later  scream', 'distance'],\n",
              " ['christian', 'then  elder'],\n",
              " ['temple', 'fire'],\n",
              " ['', 'outside cult him'],\n",
              " ['it', 'religious  awakening'],\n",
              " ['c. mackenzie', 'craig cast'],\n",
              " ['later di francia', 'action cast'],\n",
              " ['sebastian  maniscalco', 'later ben cast']]"
            ]
          },
          "execution_count": 911,
          "metadata": {},
          "output_type": "execute_result"
        }
      ],
      "source": [
        "entity_pairs2[0:10]"
      ]
    },
    {
      "cell_type": "code",
      "execution_count": 912,
      "metadata": {
        "colab": {},
        "colab_type": "code",
        "id": "_7-g82jRR_Eb"
      },
      "outputs": [],
      "source": [
        "def get_relation(sent):\n",
        "\n",
        "  doc = nlp(sent)\n",
        "\n",
        "  # Matcher class object \n",
        "  matcher = Matcher(nlp.vocab)\n",
        "\n",
        "  #define the pattern \n",
        "  pattern = [{'DEP':'ROOT'}, \n",
        "            {'DEP':'prep','OP':\"?\"},\n",
        "            {'DEP':'agent','OP':\"?\"},  \n",
        "            {'POS':'ADJ','OP':\"?\"}] \n",
        "\n",
        "  matcher.add(\"matching_1\", [pattern]) \n",
        "\n",
        "  matches = matcher(doc)\n",
        "  k = len(matches) - 1\n",
        "\n",
        "  span = doc[matches[k][1]:matches[k][2]] \n",
        "\n",
        "  return(span.text)"
      ]
    },
    {
      "cell_type": "code",
      "execution_count": 913,
      "metadata": {
        "colab": {
          "base_uri": "https://localhost:8080/",
          "height": 35
        },
        "colab_type": "code",
        "id": "DNjN6ze2R_G4",
        "outputId": "742c5d4c-e549-46dd-f7bc-74a2385ee5db"
      },
      "outputs": [
        {
          "name": "stdout",
          "output_type": "stream",
          "text": [
            "add\n"
          ]
        }
      ],
      "source": [
        "relations = get_relation(new_doc)\n",
        "print(relations)"
      ]
    },
    {
      "cell_type": "code",
      "execution_count": 914,
      "metadata": {
        "colab": {
          "base_uri": "https://localhost:8080/",
          "height": 35
        },
        "colab_type": "code",
        "id": "Qnzq0c1SSNPf",
        "outputId": "242034cf-9a01-4518-eda5-38c64705a397"
      },
      "outputs": [
        {
          "name": "stderr",
          "output_type": "stream",
          "text": [
            "100%|██████████| 9/9 [00:00<00:00, 322.50it/s]\n"
          ]
        }
      ],
      "source": [
        "relation2 = [get_relation(i) for i in tqdm(candidate_sentences['sentence'])]\n"
      ]
    },
    {
      "cell_type": "code",
      "execution_count": 915,
      "metadata": {
        "colab": {
          "base_uri": "https://localhost:8080/",
          "height": 945
        },
        "colab_type": "code",
        "id": "DwxYlwHMSQ-F",
        "outputId": "9431729b-a0a9-4d8e-da58-a6ea35f1e7aa"
      },
      "outputs": [
        {
          "data": {
            "text/plain": [
              "0         decides\n",
              "1        heard in\n",
              "2    paralyzed by\n",
              "3          set on\n",
              "4      wails with\n",
              "5              's\n",
              "6          joined\n",
              "7        revealed\n",
              "8     revealed as\n",
              "dtype: object"
            ]
          },
          "execution_count": 915,
          "metadata": {},
          "output_type": "execute_result"
        }
      ],
      "source": [
        "pd.Series(relation2)[0:10]"
      ]
    }
  ],
  "metadata": {
    "colab": {
      "collapsed_sections": [],
      "include_colab_link": true,
      "name": "Knowledge_graph_NLP",
      "provenance": []
    },
    "kernelspec": {
      "display_name": "Python 3",
      "name": "python3"
    },
    "language_info": {
      "codemirror_mode": {
        "name": "ipython",
        "version": 3
      },
      "file_extension": ".py",
      "mimetype": "text/x-python",
      "name": "python",
      "nbconvert_exporter": "python",
      "pygments_lexer": "ipython3",
      "version": "3.9.10"
    }
  },
  "nbformat": 4,
  "nbformat_minor": 0
}
